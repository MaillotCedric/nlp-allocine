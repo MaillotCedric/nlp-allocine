{
 "cells": [
  {
   "cell_type": "code",
   "execution_count": 1,
   "metadata": {},
   "outputs": [],
   "source": [
    "import pandas as pd\n",
    "import matplotlib.pyplot as plt\n",
    "import seaborn as sns\n",
    "import re\n",
    "\n",
    "from imblearn.over_sampling import SMOTE"
   ]
  },
  {
   "cell_type": "markdown",
   "metadata": {},
   "source": [
    "Chargement du dataset"
   ]
  },
  {
   "cell_type": "code",
   "execution_count": 2,
   "metadata": {},
   "outputs": [
    {
     "data": {
      "text/html": [
       "<div>\n",
       "<style scoped>\n",
       "    .dataframe tbody tr th:only-of-type {\n",
       "        vertical-align: middle;\n",
       "    }\n",
       "\n",
       "    .dataframe tbody tr th {\n",
       "        vertical-align: top;\n",
       "    }\n",
       "\n",
       "    .dataframe thead th {\n",
       "        text-align: right;\n",
       "    }\n",
       "</style>\n",
       "<table border=\"1\" class=\"dataframe\">\n",
       "  <thead>\n",
       "    <tr style=\"text-align: right;\">\n",
       "      <th></th>\n",
       "      <th>commentaire</th>\n",
       "      <th>note</th>\n",
       "    </tr>\n",
       "  </thead>\n",
       "  <tbody>\n",
       "    <tr>\n",
       "      <th>0</th>\n",
       "      <td>Décevant !&lt;br/&gt;Napoléon vu par Ridley Scott es...</td>\n",
       "      <td>1.0</td>\n",
       "    </tr>\n",
       "    <tr>\n",
       "      <th>1</th>\n",
       "      <td>Ça se laisse voir sans grand ennui mais pour q...</td>\n",
       "      <td>2.0</td>\n",
       "    </tr>\n",
       "    <tr>\n",
       "      <th>2</th>\n",
       "      <td>Succession de cartes postales sympathiques san...</td>\n",
       "      <td>1.0</td>\n",
       "    </tr>\n",
       "    <tr>\n",
       "      <th>3</th>\n",
       "      <td>Film politisé et non-objectif, qui personnifie...</td>\n",
       "      <td>1.5</td>\n",
       "    </tr>\n",
       "    <tr>\n",
       "      <th>4</th>\n",
       "      <td>Ce film est une insulte à l'égard du peuple fr...</td>\n",
       "      <td>1.0</td>\n",
       "    </tr>\n",
       "  </tbody>\n",
       "</table>\n",
       "</div>"
      ],
      "text/plain": [
       "                                         commentaire  note\n",
       "0  Décevant !<br/>Napoléon vu par Ridley Scott es...   1.0\n",
       "1  Ça se laisse voir sans grand ennui mais pour q...   2.0\n",
       "2  Succession de cartes postales sympathiques san...   1.0\n",
       "3  Film politisé et non-objectif, qui personnifie...   1.5\n",
       "4  Ce film est une insulte à l'égard du peuple fr...   1.0"
      ]
     },
     "execution_count": 2,
     "metadata": {},
     "output_type": "execute_result"
    }
   ],
   "source": [
    "allocine_df = pd.read_pickle(\"./dataset_allocine.pickle\")\n",
    "allocine_df.head()"
   ]
  },
  {
   "cell_type": "markdown",
   "metadata": {},
   "source": [
    "Distribution des commentaires"
   ]
  },
  {
   "cell_type": "code",
   "execution_count": 3,
   "metadata": {},
   "outputs": [
    {
     "data": {
      "image/png": "[encoded data removed]",
      "text/plain": [
       "<Figure size 800x500 with 1 Axes>"
      ]
     },
     "metadata": {},
     "output_type": "display_data"
    }
   ],
   "source": [
    "plt.figure(figsize=(8,5))\n",
    "\n",
    "ax = sns.countplot(data=allocine_df, x='note')\n",
    "ax.set(xlabel='Note', ylabel='Nombre de commentaires')\n",
    "\n",
    "# Mise en forme finale du graphique\n",
    "sns.despine(bottom=True)\n",
    "plt.tight_layout(h_pad=2)\n",
    "\n",
    "# Sauvegarde du graphique\n",
    "# fig = ax.get_figure()\n",
    "# fig.savefig('images/distribution_commentaires.png', dpi=200)"
   ]
  },
  {
   "cell_type": "markdown",
   "metadata": {},
   "source": [
    "Retirer les éléments de ponctuation"
   ]
  },
  {
   "cell_type": "code",
   "execution_count": 4,
   "metadata": {},
   "outputs": [
    {
     "data": {
      "text/html": [
       "<div>\n",
       "<style scoped>\n",
       "    .dataframe tbody tr th:only-of-type {\n",
       "        vertical-align: middle;\n",
       "    }\n",
       "\n",
       "    .dataframe tbody tr th {\n",
       "        vertical-align: top;\n",
       "    }\n",
       "\n",
       "    .dataframe thead th {\n",
       "        text-align: right;\n",
       "    }\n",
       "</style>\n",
       "<table border=\"1\" class=\"dataframe\">\n",
       "  <thead>\n",
       "    <tr style=\"text-align: right;\">\n",
       "      <th></th>\n",
       "      <th>commentaire</th>\n",
       "      <th>note</th>\n",
       "    </tr>\n",
       "  </thead>\n",
       "  <tbody>\n",
       "    <tr>\n",
       "      <th>0</th>\n",
       "      <td>décevant napoléon vu par ridley scott est à la...</td>\n",
       "      <td>1.0</td>\n",
       "    </tr>\n",
       "    <tr>\n",
       "      <th>1</th>\n",
       "      <td>ça se laisse voir sans grand ennui mais pour q...</td>\n",
       "      <td>2.0</td>\n",
       "    </tr>\n",
       "    <tr>\n",
       "      <th>2</th>\n",
       "      <td>succession de cartes postales sympathiques san...</td>\n",
       "      <td>1.0</td>\n",
       "    </tr>\n",
       "    <tr>\n",
       "      <th>3</th>\n",
       "      <td>film politisé et non objectif qui personnifie ...</td>\n",
       "      <td>1.5</td>\n",
       "    </tr>\n",
       "    <tr>\n",
       "      <th>4</th>\n",
       "      <td>ce film est une insulte à légard du peuple fra...</td>\n",
       "      <td>1.0</td>\n",
       "    </tr>\n",
       "  </tbody>\n",
       "</table>\n",
       "</div>"
      ],
      "text/plain": [
       "                                         commentaire  note\n",
       "0  décevant napoléon vu par ridley scott est à la...   1.0\n",
       "1  ça se laisse voir sans grand ennui mais pour q...   2.0\n",
       "2  succession de cartes postales sympathiques san...   1.0\n",
       "3  film politisé et non objectif qui personnifie ...   1.5\n",
       "4  ce film est une insulte à légard du peuple fra...   1.0"
      ]
     },
     "execution_count": 4,
     "metadata": {},
     "output_type": "execute_result"
    }
   ],
   "source": [
    "REMPLACE_SANS_ESPACE = re.compile(\"[;:!\\'?,\\\"()\\[\\]]|<br\\s*/>\")\n",
    "REMPLACE_AVEC_ESPACE = re.compile(\"(<br\\s*/><br\\s*/>)|(\\-)|(\\/)|[.]\")\n",
    "PUR_NOMBRE = re.compile(\"[0-9]\")\n",
    "\n",
    "def preprocess_reviews(reviews):\n",
    "    reviews = [PUR_NOMBRE.sub(\"\", line.lower()) for line in reviews] # retire les nomre (comme les années)\n",
    "    reviews = [line.replace('\\n', ' ')  for line in reviews] # Retire les \\n (retours chariots)\n",
    "    reviews = [REMPLACE_SANS_ESPACE.sub(\"\", line.lower()) for line in reviews]\n",
    "    reviews = [REMPLACE_AVEC_ESPACE.sub(\" \", line) for line in reviews]\n",
    "    return reviews\n",
    "\n",
    "allocine_df['commentaire'] = pd.DataFrame(preprocess_reviews(allocine_df['commentaire']))\n",
    "\n",
    "allocine_df.head()"
   ]
  },
  {
   "cell_type": "markdown",
   "metadata": {},
   "source": [
    "Equilibrer le dataset"
   ]
  },
  {
   "cell_type": "code",
   "execution_count": 5,
   "metadata": {},
   "outputs": [],
   "source": [
    "# seed = 100\n",
    "# k = 1\n",
    "\n",
    "# # séparation des labels et des targets\n",
    "# targets = allocine_df.loc[:, allocine_df.columns != 'note']\n",
    "# labels = allocine_df.note\n",
    "# # targets.head()\n",
    "# # labels.head()\n",
    "\n",
    "# sm = SMOTE(sampling_strategy='auto', k_neighbors=k, random_state=seed)\n",
    "# targets_res, labels_res = sm.fit_resample(targets, labels)\n",
    "\n",
    "# balanced_allocine_df = pd.concat([pd.DataFrame(targets_res), pd.DataFrame(labels_res)], axis=1)"
   ]
  },
  {
   "cell_type": "code",
   "execution_count": 6,
   "metadata": {},
   "outputs": [],
   "source": [
    "# plt.figure(figsize=(8,5))\n",
    "\n",
    "# ax = sns.countplot(data=balanced_allocine_df, x='note')\n",
    "# ax.set(xlabel='Note', ylabel='Nombre de commentaires')\n",
    "\n",
    "# # Mise en forme finale du graphique\n",
    "# sns.despine(bottom=True)\n",
    "# plt.tight_layout(h_pad=2)"
   ]
  }
 ],
 "metadata": {
  "kernelspec": {
   "display_name": ".env",
   "language": "python",
   "name": "python3"
  },
  "language_info": {
   "codemirror_mode": {
    "name": "ipython",
    "version": 3
   },
   "file_extension": ".py",
   "mimetype": "text/x-python",
   "name": "python",
   "nbconvert_exporter": "python",
   "pygments_lexer": "ipython3",
   "version": "3.10.12"
  }
 },
 "nbformat": 4,
 "nbformat_minor": 2
}
